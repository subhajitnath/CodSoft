{
 "cells": [
  {
   "cell_type": "markdown",
   "id": "260e26fe",
   "metadata": {},
   "source": [
    "# **Movie Rating Prediction**\n",
    "\n",
    "### Problem Objective :\n",
    "\n",
    "-Build a model that predicts the rating of a movie based on features like genre, director, and actors.\n",
    "\n",
    "-The goal is to analyze historical movie data and develop a model that accurately estimates the rating given to a movie by users or critics.\n"
   ]
  },
  {
   "cell_type": "markdown",
   "id": "948568e9",
   "metadata": {},
   "source": [
    "# Hi!!!\n",
    "\n",
    "<img src=\"https://media.giphy.com/media/3ogwFGEHrVxusDbDjO/giphy.gif\">\n",
    "\n",
    "## Let's Get Started >>>"
   ]
  },
  {
   "cell_type": "markdown",
   "id": "07c96137",
   "metadata": {},
   "source": [
    "## Importing all the libraries needed"
   ]
  },
  {
   "cell_type": "code",
   "execution_count": 1,
   "id": "67e1f26e",
   "metadata": {},
   "outputs": [],
   "source": [
    "#Data Analysis Libraries\n",
    "import pandas as pd\n",
    "import numpy as np\n",
    "import random as rnd\n",
    "import seaborn as sns\n",
    "import matplotlib.pyplot as plt\n",
    "%matplotlib inline\n",
    "\n",
    "# machine learning\n",
    "from sklearn.model_selection import train_test_split\n",
    "from sklearn.linear_model import LogisticRegression\n",
    "from sklearn.svm import SVC, LinearSVC\n",
    "from sklearn.ensemble import RandomForestClassifier\n",
    "from sklearn.neighbors import KNeighborsClassifier\n",
    "from sklearn.naive_bayes import GaussianNB\n",
    "from sklearn.linear_model import Perceptron\n",
    "from sklearn.linear_model import SGDClassifier\n",
    "from sklearn.tree import DecisionTreeClassifier"
   ]
  },
  {
   "cell_type": "markdown",
   "id": "4cdcd868",
   "metadata": {},
   "source": [
    "## Data Acquisition"
   ]
  },
  {
   "cell_type": "code",
   "execution_count": 2,
   "id": "4a67c6a3",
   "metadata": {},
   "outputs": [],
   "source": [
    "movie_data = pd.read_csv(r\"C:\\Users\\Subhajit Nath\\Documents\\DataSets\\Movie Rating Prediction\\movies.dat\", sep='::', engine='python', encoding='latin1')\n",
    "movie_data.columns =['MovieIDs','MovieName','Category']\n",
    "movie_data.dropna(inplace=True)\n",
    "\n",
    "ratings_data = pd.read_csv(r\"C:\\Users\\Subhajit Nath\\Documents\\DataSets\\Movie Rating Prediction\\ratings.dat\",sep='::', engine='python')\n",
    "ratings_data.columns =['ID','MovieID','Ratings','TimeStamp']\n",
    "ratings_data.dropna(inplace=True)\n",
    "\n",
    "user_data = pd.read_csv(r\"C:\\Users\\Subhajit Nath\\Documents\\DataSets\\Movie Rating Prediction\\users.dat\",sep='::',engine='python')\n",
    "user_data.columns =['UserID','Gender','Age','Occupation','Zip-code']\n",
    "user_data.dropna(inplace=True)"
   ]
  },
  {
   "cell_type": "markdown",
   "id": "cfc45f25",
   "metadata": {},
   "source": [
    "#### First 10 Rows of the Datasets"
   ]
  },
  {
   "cell_type": "code",
   "execution_count": 3,
   "id": "bd55e8e0",
   "metadata": {},
   "outputs": [
    {
     "data": {
      "text/html": [
       "<div>\n",
       "<style scoped>\n",
       "    .dataframe tbody tr th:only-of-type {\n",
       "        vertical-align: middle;\n",
       "    }\n",
       "\n",
       "    .dataframe tbody tr th {\n",
       "        vertical-align: top;\n",
       "    }\n",
       "\n",
       "    .dataframe thead th {\n",
       "        text-align: right;\n",
       "    }\n",
       "</style>\n",
       "<table border=\"1\" class=\"dataframe\">\n",
       "  <thead>\n",
       "    <tr style=\"text-align: right;\">\n",
       "      <th></th>\n",
       "      <th>MovieIDs</th>\n",
       "      <th>MovieName</th>\n",
       "      <th>Category</th>\n",
       "    </tr>\n",
       "  </thead>\n",
       "  <tbody>\n",
       "    <tr>\n",
       "      <th>0</th>\n",
       "      <td>2</td>\n",
       "      <td>Jumanji (1995)</td>\n",
       "      <td>Adventure|Children's|Fantasy</td>\n",
       "    </tr>\n",
       "    <tr>\n",
       "      <th>1</th>\n",
       "      <td>3</td>\n",
       "      <td>Grumpier Old Men (1995)</td>\n",
       "      <td>Comedy|Romance</td>\n",
       "    </tr>\n",
       "    <tr>\n",
       "      <th>2</th>\n",
       "      <td>4</td>\n",
       "      <td>Waiting to Exhale (1995)</td>\n",
       "      <td>Comedy|Drama</td>\n",
       "    </tr>\n",
       "    <tr>\n",
       "      <th>3</th>\n",
       "      <td>5</td>\n",
       "      <td>Father of the Bride Part II (1995)</td>\n",
       "      <td>Comedy</td>\n",
       "    </tr>\n",
       "    <tr>\n",
       "      <th>4</th>\n",
       "      <td>6</td>\n",
       "      <td>Heat (1995)</td>\n",
       "      <td>Action|Crime|Thriller</td>\n",
       "    </tr>\n",
       "    <tr>\n",
       "      <th>5</th>\n",
       "      <td>7</td>\n",
       "      <td>Sabrina (1995)</td>\n",
       "      <td>Comedy|Romance</td>\n",
       "    </tr>\n",
       "    <tr>\n",
       "      <th>6</th>\n",
       "      <td>8</td>\n",
       "      <td>Tom and Huck (1995)</td>\n",
       "      <td>Adventure|Children's</td>\n",
       "    </tr>\n",
       "    <tr>\n",
       "      <th>7</th>\n",
       "      <td>9</td>\n",
       "      <td>Sudden Death (1995)</td>\n",
       "      <td>Action</td>\n",
       "    </tr>\n",
       "    <tr>\n",
       "      <th>8</th>\n",
       "      <td>10</td>\n",
       "      <td>GoldenEye (1995)</td>\n",
       "      <td>Action|Adventure|Thriller</td>\n",
       "    </tr>\n",
       "    <tr>\n",
       "      <th>9</th>\n",
       "      <td>11</td>\n",
       "      <td>American President, The (1995)</td>\n",
       "      <td>Comedy|Drama|Romance</td>\n",
       "    </tr>\n",
       "  </tbody>\n",
       "</table>\n",
       "</div>"
      ],
      "text/plain": [
       "   MovieIDs                           MovieName                      Category\n",
       "0         2                      Jumanji (1995)  Adventure|Children's|Fantasy\n",
       "1         3             Grumpier Old Men (1995)                Comedy|Romance\n",
       "2         4            Waiting to Exhale (1995)                  Comedy|Drama\n",
       "3         5  Father of the Bride Part II (1995)                        Comedy\n",
       "4         6                         Heat (1995)         Action|Crime|Thriller\n",
       "5         7                      Sabrina (1995)                Comedy|Romance\n",
       "6         8                 Tom and Huck (1995)          Adventure|Children's\n",
       "7         9                 Sudden Death (1995)                        Action\n",
       "8        10                    GoldenEye (1995)     Action|Adventure|Thriller\n",
       "9        11      American President, The (1995)          Comedy|Drama|Romance"
      ]
     },
     "execution_count": 3,
     "metadata": {},
     "output_type": "execute_result"
    }
   ],
   "source": [
    "movie_data.head(10)"
   ]
  },
  {
   "cell_type": "code",
   "execution_count": 4,
   "id": "9a25cb9f",
   "metadata": {},
   "outputs": [
    {
     "data": {
      "text/html": [
       "<div>\n",
       "<style scoped>\n",
       "    .dataframe tbody tr th:only-of-type {\n",
       "        vertical-align: middle;\n",
       "    }\n",
       "\n",
       "    .dataframe tbody tr th {\n",
       "        vertical-align: top;\n",
       "    }\n",
       "\n",
       "    .dataframe thead th {\n",
       "        text-align: right;\n",
       "    }\n",
       "</style>\n",
       "<table border=\"1\" class=\"dataframe\">\n",
       "  <thead>\n",
       "    <tr style=\"text-align: right;\">\n",
       "      <th></th>\n",
       "      <th>ID</th>\n",
       "      <th>MovieID</th>\n",
       "      <th>Ratings</th>\n",
       "      <th>TimeStamp</th>\n",
       "    </tr>\n",
       "  </thead>\n",
       "  <tbody>\n",
       "    <tr>\n",
       "      <th>0</th>\n",
       "      <td>1</td>\n",
       "      <td>661</td>\n",
       "      <td>3</td>\n",
       "      <td>978302109</td>\n",
       "    </tr>\n",
       "    <tr>\n",
       "      <th>1</th>\n",
       "      <td>1</td>\n",
       "      <td>914</td>\n",
       "      <td>3</td>\n",
       "      <td>978301968</td>\n",
       "    </tr>\n",
       "    <tr>\n",
       "      <th>2</th>\n",
       "      <td>1</td>\n",
       "      <td>3408</td>\n",
       "      <td>4</td>\n",
       "      <td>978300275</td>\n",
       "    </tr>\n",
       "    <tr>\n",
       "      <th>3</th>\n",
       "      <td>1</td>\n",
       "      <td>2355</td>\n",
       "      <td>5</td>\n",
       "      <td>978824291</td>\n",
       "    </tr>\n",
       "    <tr>\n",
       "      <th>4</th>\n",
       "      <td>1</td>\n",
       "      <td>1197</td>\n",
       "      <td>3</td>\n",
       "      <td>978302268</td>\n",
       "    </tr>\n",
       "    <tr>\n",
       "      <th>5</th>\n",
       "      <td>1</td>\n",
       "      <td>1287</td>\n",
       "      <td>5</td>\n",
       "      <td>978302039</td>\n",
       "    </tr>\n",
       "    <tr>\n",
       "      <th>6</th>\n",
       "      <td>1</td>\n",
       "      <td>2804</td>\n",
       "      <td>5</td>\n",
       "      <td>978300719</td>\n",
       "    </tr>\n",
       "    <tr>\n",
       "      <th>7</th>\n",
       "      <td>1</td>\n",
       "      <td>594</td>\n",
       "      <td>4</td>\n",
       "      <td>978302268</td>\n",
       "    </tr>\n",
       "    <tr>\n",
       "      <th>8</th>\n",
       "      <td>1</td>\n",
       "      <td>919</td>\n",
       "      <td>4</td>\n",
       "      <td>978301368</td>\n",
       "    </tr>\n",
       "    <tr>\n",
       "      <th>9</th>\n",
       "      <td>1</td>\n",
       "      <td>595</td>\n",
       "      <td>5</td>\n",
       "      <td>978824268</td>\n",
       "    </tr>\n",
       "  </tbody>\n",
       "</table>\n",
       "</div>"
      ],
      "text/plain": [
       "   ID  MovieID  Ratings  TimeStamp\n",
       "0   1      661        3  978302109\n",
       "1   1      914        3  978301968\n",
       "2   1     3408        4  978300275\n",
       "3   1     2355        5  978824291\n",
       "4   1     1197        3  978302268\n",
       "5   1     1287        5  978302039\n",
       "6   1     2804        5  978300719\n",
       "7   1      594        4  978302268\n",
       "8   1      919        4  978301368\n",
       "9   1      595        5  978824268"
      ]
     },
     "execution_count": 4,
     "metadata": {},
     "output_type": "execute_result"
    }
   ],
   "source": [
    "ratings_data.head(10)"
   ]
  },
  {
   "cell_type": "code",
   "execution_count": 5,
   "id": "0d48a4c4",
   "metadata": {},
   "outputs": [
    {
     "data": {
      "text/html": [
       "<div>\n",
       "<style scoped>\n",
       "    .dataframe tbody tr th:only-of-type {\n",
       "        vertical-align: middle;\n",
       "    }\n",
       "\n",
       "    .dataframe tbody tr th {\n",
       "        vertical-align: top;\n",
       "    }\n",
       "\n",
       "    .dataframe thead th {\n",
       "        text-align: right;\n",
       "    }\n",
       "</style>\n",
       "<table border=\"1\" class=\"dataframe\">\n",
       "  <thead>\n",
       "    <tr style=\"text-align: right;\">\n",
       "      <th></th>\n",
       "      <th>UserID</th>\n",
       "      <th>Gender</th>\n",
       "      <th>Age</th>\n",
       "      <th>Occupation</th>\n",
       "      <th>Zip-code</th>\n",
       "    </tr>\n",
       "  </thead>\n",
       "  <tbody>\n",
       "    <tr>\n",
       "      <th>0</th>\n",
       "      <td>2</td>\n",
       "      <td>M</td>\n",
       "      <td>56</td>\n",
       "      <td>16</td>\n",
       "      <td>70072</td>\n",
       "    </tr>\n",
       "    <tr>\n",
       "      <th>1</th>\n",
       "      <td>3</td>\n",
       "      <td>M</td>\n",
       "      <td>25</td>\n",
       "      <td>15</td>\n",
       "      <td>55117</td>\n",
       "    </tr>\n",
       "    <tr>\n",
       "      <th>2</th>\n",
       "      <td>4</td>\n",
       "      <td>M</td>\n",
       "      <td>45</td>\n",
       "      <td>7</td>\n",
       "      <td>02460</td>\n",
       "    </tr>\n",
       "    <tr>\n",
       "      <th>3</th>\n",
       "      <td>5</td>\n",
       "      <td>M</td>\n",
       "      <td>25</td>\n",
       "      <td>20</td>\n",
       "      <td>55455</td>\n",
       "    </tr>\n",
       "    <tr>\n",
       "      <th>4</th>\n",
       "      <td>6</td>\n",
       "      <td>F</td>\n",
       "      <td>50</td>\n",
       "      <td>9</td>\n",
       "      <td>55117</td>\n",
       "    </tr>\n",
       "    <tr>\n",
       "      <th>5</th>\n",
       "      <td>7</td>\n",
       "      <td>M</td>\n",
       "      <td>35</td>\n",
       "      <td>1</td>\n",
       "      <td>06810</td>\n",
       "    </tr>\n",
       "    <tr>\n",
       "      <th>6</th>\n",
       "      <td>8</td>\n",
       "      <td>M</td>\n",
       "      <td>25</td>\n",
       "      <td>12</td>\n",
       "      <td>11413</td>\n",
       "    </tr>\n",
       "    <tr>\n",
       "      <th>7</th>\n",
       "      <td>9</td>\n",
       "      <td>M</td>\n",
       "      <td>25</td>\n",
       "      <td>17</td>\n",
       "      <td>61614</td>\n",
       "    </tr>\n",
       "    <tr>\n",
       "      <th>8</th>\n",
       "      <td>10</td>\n",
       "      <td>F</td>\n",
       "      <td>35</td>\n",
       "      <td>1</td>\n",
       "      <td>95370</td>\n",
       "    </tr>\n",
       "    <tr>\n",
       "      <th>9</th>\n",
       "      <td>11</td>\n",
       "      <td>F</td>\n",
       "      <td>25</td>\n",
       "      <td>1</td>\n",
       "      <td>04093</td>\n",
       "    </tr>\n",
       "  </tbody>\n",
       "</table>\n",
       "</div>"
      ],
      "text/plain": [
       "   UserID Gender  Age  Occupation Zip-code\n",
       "0       2      M   56          16    70072\n",
       "1       3      M   25          15    55117\n",
       "2       4      M   45           7    02460\n",
       "3       5      M   25          20    55455\n",
       "4       6      F   50           9    55117\n",
       "5       7      M   35           1    06810\n",
       "6       8      M   25          12    11413\n",
       "7       9      M   25          17    61614\n",
       "8      10      F   35           1    95370\n",
       "9      11      F   25           1    04093"
      ]
     },
     "execution_count": 5,
     "metadata": {},
     "output_type": "execute_result"
    }
   ],
   "source": [
    "user_data.head(10)"
   ]
  },
  {
   "cell_type": "code",
   "execution_count": 6,
   "id": "79dbf5fb",
   "metadata": {},
   "outputs": [
    {
     "data": {
      "text/html": [
       "<div>\n",
       "<style scoped>\n",
       "    .dataframe tbody tr th:only-of-type {\n",
       "        vertical-align: middle;\n",
       "    }\n",
       "\n",
       "    .dataframe tbody tr th {\n",
       "        vertical-align: top;\n",
       "    }\n",
       "\n",
       "    .dataframe thead th {\n",
       "        text-align: right;\n",
       "    }\n",
       "</style>\n",
       "<table border=\"1\" class=\"dataframe\">\n",
       "  <thead>\n",
       "    <tr style=\"text-align: right;\">\n",
       "      <th></th>\n",
       "      <th>MovieIDs</th>\n",
       "      <th>MovieName</th>\n",
       "      <th>Category</th>\n",
       "      <th>ID</th>\n",
       "      <th>MovieID</th>\n",
       "      <th>Ratings</th>\n",
       "      <th>TimeStamp</th>\n",
       "      <th>UserID</th>\n",
       "      <th>Gender</th>\n",
       "      <th>Age</th>\n",
       "      <th>Occupation</th>\n",
       "      <th>Zip-code</th>\n",
       "    </tr>\n",
       "  </thead>\n",
       "  <tbody>\n",
       "    <tr>\n",
       "      <th>0</th>\n",
       "      <td>2.0</td>\n",
       "      <td>Jumanji (1995)</td>\n",
       "      <td>Adventure|Children's|Fantasy</td>\n",
       "      <td>1</td>\n",
       "      <td>661</td>\n",
       "      <td>3</td>\n",
       "      <td>978302109</td>\n",
       "      <td>2.0</td>\n",
       "      <td>M</td>\n",
       "      <td>56.0</td>\n",
       "      <td>16.0</td>\n",
       "      <td>70072</td>\n",
       "    </tr>\n",
       "    <tr>\n",
       "      <th>1</th>\n",
       "      <td>3.0</td>\n",
       "      <td>Grumpier Old Men (1995)</td>\n",
       "      <td>Comedy|Romance</td>\n",
       "      <td>1</td>\n",
       "      <td>914</td>\n",
       "      <td>3</td>\n",
       "      <td>978301968</td>\n",
       "      <td>3.0</td>\n",
       "      <td>M</td>\n",
       "      <td>25.0</td>\n",
       "      <td>15.0</td>\n",
       "      <td>55117</td>\n",
       "    </tr>\n",
       "    <tr>\n",
       "      <th>2</th>\n",
       "      <td>4.0</td>\n",
       "      <td>Waiting to Exhale (1995)</td>\n",
       "      <td>Comedy|Drama</td>\n",
       "      <td>1</td>\n",
       "      <td>3408</td>\n",
       "      <td>4</td>\n",
       "      <td>978300275</td>\n",
       "      <td>4.0</td>\n",
       "      <td>M</td>\n",
       "      <td>45.0</td>\n",
       "      <td>7.0</td>\n",
       "      <td>02460</td>\n",
       "    </tr>\n",
       "    <tr>\n",
       "      <th>3</th>\n",
       "      <td>5.0</td>\n",
       "      <td>Father of the Bride Part II (1995)</td>\n",
       "      <td>Comedy</td>\n",
       "      <td>1</td>\n",
       "      <td>2355</td>\n",
       "      <td>5</td>\n",
       "      <td>978824291</td>\n",
       "      <td>5.0</td>\n",
       "      <td>M</td>\n",
       "      <td>25.0</td>\n",
       "      <td>20.0</td>\n",
       "      <td>55455</td>\n",
       "    </tr>\n",
       "    <tr>\n",
       "      <th>4</th>\n",
       "      <td>6.0</td>\n",
       "      <td>Heat (1995)</td>\n",
       "      <td>Action|Crime|Thriller</td>\n",
       "      <td>1</td>\n",
       "      <td>1197</td>\n",
       "      <td>3</td>\n",
       "      <td>978302268</td>\n",
       "      <td>6.0</td>\n",
       "      <td>F</td>\n",
       "      <td>50.0</td>\n",
       "      <td>9.0</td>\n",
       "      <td>55117</td>\n",
       "    </tr>\n",
       "  </tbody>\n",
       "</table>\n",
       "</div>"
      ],
      "text/plain": [
       "   MovieIDs                           MovieName                      Category  \\\n",
       "0       2.0                      Jumanji (1995)  Adventure|Children's|Fantasy   \n",
       "1       3.0             Grumpier Old Men (1995)                Comedy|Romance   \n",
       "2       4.0            Waiting to Exhale (1995)                  Comedy|Drama   \n",
       "3       5.0  Father of the Bride Part II (1995)                        Comedy   \n",
       "4       6.0                         Heat (1995)         Action|Crime|Thriller   \n",
       "\n",
       "   ID  MovieID  Ratings  TimeStamp  UserID Gender   Age  Occupation Zip-code  \n",
       "0   1      661        3  978302109     2.0      M  56.0        16.0    70072  \n",
       "1   1      914        3  978301968     3.0      M  25.0        15.0    55117  \n",
       "2   1     3408        4  978300275     4.0      M  45.0         7.0    02460  \n",
       "3   1     2355        5  978824291     5.0      M  25.0        20.0    55455  \n",
       "4   1     1197        3  978302268     6.0      F  50.0         9.0    55117  "
      ]
     },
     "execution_count": 6,
     "metadata": {},
     "output_type": "execute_result"
    }
   ],
   "source": [
    "data = pd.concat([movie_data, ratings_data, user_data], axis=1)\n",
    "data.head()"
   ]
  },
  {
   "cell_type": "markdown",
   "id": "9de18d30",
   "metadata": {},
   "source": [
    "## Exploratory Data Analysis (EDA) for the users dataset"
   ]
  },
  {
   "cell_type": "code",
   "execution_count": 7,
   "id": "357be7a1",
   "metadata": {},
   "outputs": [
    {
     "data": {
      "image/png": "[encoded data removed]",
      "text/plain": [
       "<Figure size 1500x700 with 1 Axes>"
      ]
     },
     "metadata": {},
     "output_type": "display_data"
    }
   ],
   "source": [
    "data['Age'].value_counts().plot(kind='bar', color= 'red',alpha=0.5,figsize=(15,7))\n",
    "plt.show()"
   ]
  },
  {
   "cell_type": "code",
   "execution_count": 8,
   "id": "d5e85967",
   "metadata": {},
   "outputs": [
    {
     "data": {
      "text/plain": [
       "Text(0.5, 0, 'Age')"
      ]
     },
     "execution_count": 8,
     "metadata": {},
     "output_type": "execute_result"
    },
    {
     "data": {
      "image/png": "[encoded data removed]",
      "text/plain": [
       "<Figure size 640x480 with 1 Axes>"
      ]
     },
     "metadata": {},
     "output_type": "display_data"
    }
   ],
   "source": [
    "data.Age.plot.hist(bins=25,color='blue', alpha= 0.5)\n",
    "plt.title(\"Distribution of users' ages\")\n",
    "plt.ylabel('count of users')\n",
    "plt.xlabel('Age')"
   ]
  },
  {
   "cell_type": "code",
   "execution_count": 9,
   "id": "789cad3d",
   "metadata": {},
   "outputs": [
    {
     "data": {
      "text/html": [
       "<div>\n",
       "<style scoped>\n",
       "    .dataframe tbody tr th:only-of-type {\n",
       "        vertical-align: middle;\n",
       "    }\n",
       "\n",
       "    .dataframe tbody tr th {\n",
       "        vertical-align: top;\n",
       "    }\n",
       "\n",
       "    .dataframe thead th {\n",
       "        text-align: right;\n",
       "    }\n",
       "</style>\n",
       "<table border=\"1\" class=\"dataframe\">\n",
       "  <thead>\n",
       "    <tr style=\"text-align: right;\">\n",
       "      <th></th>\n",
       "      <th>Age</th>\n",
       "      <th>age_group</th>\n",
       "    </tr>\n",
       "  </thead>\n",
       "  <tbody>\n",
       "    <tr>\n",
       "      <th>0</th>\n",
       "      <td>56.0</td>\n",
       "      <td>50-59</td>\n",
       "    </tr>\n",
       "    <tr>\n",
       "      <th>1</th>\n",
       "      <td>25.0</td>\n",
       "      <td>20-29</td>\n",
       "    </tr>\n",
       "    <tr>\n",
       "      <th>2</th>\n",
       "      <td>45.0</td>\n",
       "      <td>40-49</td>\n",
       "    </tr>\n",
       "    <tr>\n",
       "      <th>4</th>\n",
       "      <td>50.0</td>\n",
       "      <td>50-59</td>\n",
       "    </tr>\n",
       "    <tr>\n",
       "      <th>5</th>\n",
       "      <td>35.0</td>\n",
       "      <td>30-39</td>\n",
       "    </tr>\n",
       "    <tr>\n",
       "      <th>16</th>\n",
       "      <td>18.0</td>\n",
       "      <td>10-19</td>\n",
       "    </tr>\n",
       "    <tr>\n",
       "      <th>17</th>\n",
       "      <td>1.0</td>\n",
       "      <td>0-9</td>\n",
       "    </tr>\n",
       "    <tr>\n",
       "      <th>6039</th>\n",
       "      <td>NaN</td>\n",
       "      <td>NaN</td>\n",
       "    </tr>\n",
       "  </tbody>\n",
       "</table>\n",
       "</div>"
      ],
      "text/plain": [
       "       Age age_group\n",
       "0     56.0     50-59\n",
       "1     25.0     20-29\n",
       "2     45.0     40-49\n",
       "4     50.0     50-59\n",
       "5     35.0     30-39\n",
       "16    18.0     10-19\n",
       "17     1.0       0-9\n",
       "6039   NaN       NaN"
      ]
     },
     "execution_count": 9,
     "metadata": {},
     "output_type": "execute_result"
    }
   ],
   "source": [
    "labels = ['0-9', '10-19', '20-29', '30-39', '40-49', '50-59', '60-69', '70-79']\n",
    "data['age_group'] = pd.cut(data.Age, range(0, 81, 10), right=False, labels=labels)\n",
    "data[['Age', 'age_group']].drop_duplicates()[:10]"
   ]
  },
  {
   "cell_type": "code",
   "execution_count": 10,
   "id": "70affe7e",
   "metadata": {},
   "outputs": [
    {
     "data": {
      "image/png": "[encoded data removed]",
      "text/plain": [
       "<Figure size 1500x700 with 1 Axes>"
      ]
     },
     "metadata": {},
     "output_type": "display_data"
    }
   ],
   "source": [
    "data['Ratings'].value_counts().plot(kind='bar', color='green',alpha=0.5,figsize=(15,7))\n",
    "plt.show()"
   ]
  },
  {
   "cell_type": "markdown",
   "id": "a84c427a",
   "metadata": {},
   "source": [
    "## Only You(1994)"
   ]
  },
  {
   "cell_type": "code",
   "execution_count": 11,
   "id": "4c61b564",
   "metadata": {},
   "outputs": [],
   "source": [
    "groupedby_movieName = data.groupby('MovieName')\n",
    "groupedby_rating = data.groupby('Ratings')\n",
    "groupedby_uid = data.groupby('UserID')"
   ]
  },
  {
   "cell_type": "code",
   "execution_count": 12,
   "id": "c4f7eef3",
   "metadata": {},
   "outputs": [
    {
     "name": "stdout",
     "output_type": "stream",
     "text": [
      "MovieName\n",
      "$1,000,000 Duck (1971)                   1\n",
      "Only Angels Have Wings (1939)            1\n",
      "Only You (1994)                          1\n",
      "Open Season (1996)                       1\n",
      "Open Your Eyes (Abre los ojos) (1997)    1\n",
      "                                        ..\n",
      "Toy Story 2 (1999)                       1\n",
      "Toys (1992)                              1\n",
      "Total Eclipse (1995)                     1\n",
      "Trading Places (1983)                    1\n",
      "Tom & Viv (1994)                         1\n",
      "Length: 1000, dtype: int64\n"
     ]
    }
   ],
   "source": [
    "movies = data.groupby('MovieName').size().sort_values(ascending=True)[:1000]\n",
    "print(movies)"
   ]
  },
  {
   "cell_type": "code",
   "execution_count": 13,
   "id": "dc126e8b",
   "metadata": {},
   "outputs": [
    {
     "data": {
      "text/plain": [
       "(1, 13)"
      ]
     },
     "execution_count": 13,
     "metadata": {},
     "output_type": "execute_result"
    }
   ],
   "source": [
    "onlyyou_data = groupedby_movieName.get_group('Only You (1994)')\n",
    "onlyyou_data.shape"
   ]
  },
  {
   "cell_type": "code",
   "execution_count": 14,
   "id": "15e57378",
   "metadata": {},
   "outputs": [
    {
     "data": {
      "image/png": "[encoded data removed]",
      "text/plain": [
       "<Figure size 500x500 with 1 Axes>"
      ]
     },
     "metadata": {},
     "output_type": "display_data"
    }
   ],
   "source": [
    "#Find and visualize the user rating of the movie “Only You”\n",
    "plt.figure(figsize=(5,5))\n",
    "plt.scatter(onlyyou_data['MovieName'],onlyyou_data['Ratings'], color='red', linewidth=30)\n",
    "plt.title('Plot showing  the user rating of the movie “Only You”')\n",
    "plt.show()"
   ]
  },
  {
   "cell_type": "code",
   "execution_count": 15,
   "id": "6626bf27",
   "metadata": {},
   "outputs": [
    {
     "data": {
      "text/html": [
       "<div>\n",
       "<style scoped>\n",
       "    .dataframe tbody tr th:only-of-type {\n",
       "        vertical-align: middle;\n",
       "    }\n",
       "\n",
       "    .dataframe tbody tr th {\n",
       "        vertical-align: top;\n",
       "    }\n",
       "\n",
       "    .dataframe thead th {\n",
       "        text-align: right;\n",
       "    }\n",
       "</style>\n",
       "<table border=\"1\" class=\"dataframe\">\n",
       "  <thead>\n",
       "    <tr style=\"text-align: right;\">\n",
       "      <th></th>\n",
       "      <th>MovieName</th>\n",
       "      <th>age_group</th>\n",
       "    </tr>\n",
       "  </thead>\n",
       "  <tbody>\n",
       "    <tr>\n",
       "      <th>285</th>\n",
       "      <td>Only You (1994)</td>\n",
       "      <td>50-59</td>\n",
       "    </tr>\n",
       "  </tbody>\n",
       "</table>\n",
       "</div>"
      ],
      "text/plain": [
       "           MovieName age_group\n",
       "285  Only You (1994)     50-59"
      ]
     },
     "execution_count": 15,
     "metadata": {},
     "output_type": "execute_result"
    }
   ],
   "source": [
    "#The viewership of the movie “Only You” by age group\n",
    "onlyyou_data[['MovieName','age_group']]"
   ]
  },
  {
   "cell_type": "code",
   "execution_count": 16,
   "id": "2f761a64",
   "metadata": {},
   "outputs": [
    {
     "data": {
      "text/html": [
       "<div>\n",
       "<style scoped>\n",
       "    .dataframe tbody tr th:only-of-type {\n",
       "        vertical-align: middle;\n",
       "    }\n",
       "\n",
       "    .dataframe tbody tr th {\n",
       "        vertical-align: top;\n",
       "    }\n",
       "\n",
       "    .dataframe thead th {\n",
       "        text-align: right;\n",
       "    }\n",
       "</style>\n",
       "<table border=\"1\" class=\"dataframe\">\n",
       "  <thead>\n",
       "    <tr style=\"text-align: right;\">\n",
       "      <th></th>\n",
       "      <th>MovieIDs</th>\n",
       "      <th>MovieName</th>\n",
       "      <th>Category</th>\n",
       "      <th>ID</th>\n",
       "      <th>MovieID</th>\n",
       "      <th>Ratings</th>\n",
       "      <th>TimeStamp</th>\n",
       "      <th>UserID</th>\n",
       "      <th>Gender</th>\n",
       "      <th>Age</th>\n",
       "      <th>Occupation</th>\n",
       "      <th>Zip-code</th>\n",
       "      <th>age_group</th>\n",
       "    </tr>\n",
       "  </thead>\n",
       "  <tbody>\n",
       "    <tr>\n",
       "      <th>763</th>\n",
       "      <td>774.0</td>\n",
       "      <td>Wend Kuuni (God's Gift) (1982)</td>\n",
       "      <td>Drama</td>\n",
       "      <td>9</td>\n",
       "      <td>3253</td>\n",
       "      <td>4</td>\n",
       "      <td>978226165</td>\n",
       "      <td>765.0</td>\n",
       "      <td>M</td>\n",
       "      <td>25.0</td>\n",
       "      <td>17.0</td>\n",
       "      <td>74467</td>\n",
       "      <td>20-29</td>\n",
       "    </tr>\n",
       "  </tbody>\n",
       "</table>\n",
       "</div>"
      ],
      "text/plain": [
       "     MovieIDs                       MovieName Category  ID  MovieID  Ratings  \\\n",
       "763     774.0  Wend Kuuni (God's Gift) (1982)    Drama   9     3253        4   \n",
       "\n",
       "     TimeStamp  UserID Gender   Age  Occupation Zip-code age_group  \n",
       "763  978226165   765.0      M  25.0        17.0    74467     20-29  "
      ]
     },
     "execution_count": 16,
     "metadata": {},
     "output_type": "execute_result"
    },
    {
     "data": {
      "image/png": "[encoded data removed]",
      "text/plain": [
       "<Figure size 640x480 with 1 Axes>"
      ]
     },
     "metadata": {},
     "output_type": "display_data"
    }
   ],
   "source": [
    "#Find the ratings for the movie reviewed by for a particular user of user id = 765\n",
    "\n",
    "res = data[data.UserID == 765]\n",
    "\n",
    "plt.scatter(y=res.MovieName, x=res.Ratings)\n",
    "\n",
    "res"
   ]
  },
  {
   "cell_type": "code",
   "execution_count": 17,
   "id": "2ff016eb",
   "metadata": {},
   "outputs": [
    {
     "data": {
      "text/plain": [
       "<Axes: ylabel='MovieName'>"
      ]
     },
     "execution_count": 17,
     "metadata": {},
     "output_type": "execute_result"
    },
    {
     "data": {
      "image/png": "[encoded data removed]",
      "text/plain": [
       "<Figure size 640x480 with 1 Axes>"
      ]
     },
     "metadata": {},
     "output_type": "display_data"
    }
   ],
   "source": [
    "#Top 25 movies by viewership rating\n",
    "\n",
    "res = data.groupby(\"MovieName\").size().sort_values(ascending=False)[:25]\n",
    "plt.ylabel(\"Title\")\n",
    "plt.xlabel(\"Viewership Count\")\n",
    "res.plot(kind=\"barh\")\n",
    "#res"
   ]
  },
  {
   "cell_type": "code",
   "execution_count": 18,
   "id": "5c11748a",
   "metadata": {},
   "outputs": [
    {
     "data": {
      "image/png": "[encoded data removed]",
      "text/plain": [
       "<Figure size 700x700 with 1 Axes>"
      ]
     },
     "metadata": {},
     "output_type": "display_data"
    }
   ],
   "source": [
    "#The top 25 movies by viewership rating\n",
    "top_25 = data[25:]\n",
    "top_25['Ratings'].value_counts().plot(kind='bar',alpha=0.5,figsize=(7,7), color='orange')\n",
    "plt.show()"
   ]
  },
  {
   "cell_type": "code",
   "execution_count": 19,
   "id": "3e01dcf9",
   "metadata": {},
   "outputs": [
    {
     "data": {
      "text/html": [
       "<div>\n",
       "<style scoped>\n",
       "    .dataframe tbody tr th:only-of-type {\n",
       "        vertical-align: middle;\n",
       "    }\n",
       "\n",
       "    .dataframe tbody tr th {\n",
       "        vertical-align: top;\n",
       "    }\n",
       "\n",
       "    .dataframe thead th {\n",
       "        text-align: right;\n",
       "    }\n",
       "</style>\n",
       "<table border=\"1\" class=\"dataframe\">\n",
       "  <thead>\n",
       "    <tr style=\"text-align: right;\">\n",
       "      <th></th>\n",
       "      <th>UserID</th>\n",
       "      <th>Ratings</th>\n",
       "    </tr>\n",
       "  </thead>\n",
       "  <tbody>\n",
       "    <tr>\n",
       "      <th>48</th>\n",
       "      <td>50.0</td>\n",
       "      <td>4</td>\n",
       "    </tr>\n",
       "  </tbody>\n",
       "</table>\n",
       "</div>"
      ],
      "text/plain": [
       "    UserID  Ratings\n",
       "48    50.0        4"
      ]
     },
     "execution_count": 19,
     "metadata": {},
     "output_type": "execute_result"
    }
   ],
   "source": [
    "# Rating data by user id 50\n",
    "uid50 = groupedby_uid.get_group(50)\n",
    "uid50[['UserID', 'Ratings']]"
   ]
  },
  {
   "cell_type": "markdown",
   "id": "7067290c",
   "metadata": {},
   "source": [
    "## Machine Learning on first 500 extracted records\n",
    "\n",
    "<img src =\"https://media.giphy.com/media/4TtTVTmBoXp8txRU0C/giphy.gif\">"
   ]
  },
  {
   "cell_type": "code",
   "execution_count": 20,
   "id": "7ae96c55",
   "metadata": {},
   "outputs": [],
   "source": [
    "import warnings\n",
    "warnings.filterwarnings('ignore')\n",
    "\n",
    "#First 500 extracted records\n",
    "first_500 = data[500:]\n",
    "first_500.dropna(inplace=True)"
   ]
  },
  {
   "cell_type": "code",
   "execution_count": 21,
   "id": "61d213cf",
   "metadata": {},
   "outputs": [],
   "source": [
    "#Use the following features:movie id,age,occupation\n",
    "features = first_500[['MovieID','Age','Occupation']].values"
   ]
  },
  {
   "cell_type": "code",
   "execution_count": 22,
   "id": "72d2c9e7",
   "metadata": {},
   "outputs": [],
   "source": [
    "#Use rating as label\n",
    "labels = first_500[['Ratings']].values"
   ]
  },
  {
   "cell_type": "code",
   "execution_count": 23,
   "id": "0027c1b6",
   "metadata": {},
   "outputs": [],
   "source": [
    "#Create train and test data set\n",
    "train, test, train_labels, test_labels = train_test_split(features,labels,test_size=0.33,random_state=42)"
   ]
  },
  {
   "cell_type": "markdown",
   "id": "83b076c1",
   "metadata": {},
   "source": [
    "## Regression Techniques"
   ]
  },
  {
   "cell_type": "markdown",
   "id": "7841b62f",
   "metadata": {},
   "source": [
    "### Logistic Regression"
   ]
  },
  {
   "cell_type": "code",
   "execution_count": 24,
   "id": "bf2015a1",
   "metadata": {},
   "outputs": [
    {
     "data": {
      "text/plain": [
       "32.76"
      ]
     },
     "execution_count": 24,
     "metadata": {},
     "output_type": "execute_result"
    }
   ],
   "source": [
    "logreg = LogisticRegression()\n",
    "logreg.fit(train, train_labels)\n",
    "Y_pred = logreg.predict(test)\n",
    "acc_log = round(logreg.score(train, train_labels) * 100, 2)\n",
    "acc_log"
   ]
  },
  {
   "cell_type": "markdown",
   "id": "80fde23a",
   "metadata": {},
   "source": [
    "### Support Vector Machines"
   ]
  },
  {
   "cell_type": "code",
   "execution_count": 25,
   "id": "3ca2470f",
   "metadata": {},
   "outputs": [
    {
     "data": {
      "text/plain": [
       "32.94"
      ]
     },
     "execution_count": 25,
     "metadata": {},
     "output_type": "execute_result"
    }
   ],
   "source": [
    "svc = SVC()\n",
    "svc.fit(train, train_labels)\n",
    "Y_pred = svc.predict(test)\n",
    "acc_svc = round(svc.score(train, train_labels) * 100, 2)\n",
    "acc_svc"
   ]
  },
  {
   "cell_type": "markdown",
   "id": "74ed0cd7",
   "metadata": {},
   "source": [
    "### K Nearest Neighbors Classifier"
   ]
  },
  {
   "cell_type": "code",
   "execution_count": 26,
   "id": "1a72654b",
   "metadata": {},
   "outputs": [
    {
     "data": {
      "text/plain": [
       "57.31"
      ]
     },
     "execution_count": 26,
     "metadata": {},
     "output_type": "execute_result"
    }
   ],
   "source": [
    "knn = KNeighborsClassifier(n_neighbors = 3)\n",
    "knn.fit(train, train_labels)\n",
    "Y_pred = knn.predict(test)\n",
    "acc_knn = round(knn.score(train, train_labels) * 100, 2)\n",
    "acc_knn"
   ]
  },
  {
   "cell_type": "markdown",
   "id": "6517d5e3",
   "metadata": {},
   "source": [
    "### Gaussian Naive Bayes"
   ]
  },
  {
   "cell_type": "code",
   "execution_count": 27,
   "id": "5d108bee",
   "metadata": {},
   "outputs": [
    {
     "data": {
      "text/plain": [
       "32.23"
      ]
     },
     "execution_count": 27,
     "metadata": {},
     "output_type": "execute_result"
    }
   ],
   "source": [
    "gaussian = GaussianNB()\n",
    "gaussian.fit(train, train_labels)\n",
    "Y_pred = gaussian.predict(test)\n",
    "acc_gaussian = round(gaussian.score(train, train_labels) * 100, 2)\n",
    "acc_gaussian"
   ]
  },
  {
   "cell_type": "markdown",
   "id": "72706b92",
   "metadata": {},
   "source": [
    "### Perceptron"
   ]
  },
  {
   "cell_type": "code",
   "execution_count": 28,
   "id": "1f864565",
   "metadata": {},
   "outputs": [
    {
     "data": {
      "text/plain": [
       "28.61"
      ]
     },
     "execution_count": 28,
     "metadata": {},
     "output_type": "execute_result"
    }
   ],
   "source": [
    "perceptron = Perceptron()\n",
    "perceptron.fit(train, train_labels)\n",
    "Y_pred = perceptron.predict(test)\n",
    "acc_perceptron = round(perceptron.score(train, train_labels) * 100, 2)\n",
    "acc_perceptron"
   ]
  },
  {
   "cell_type": "markdown",
   "id": "12aba0d3",
   "metadata": {},
   "source": [
    "### Linear SVC"
   ]
  },
  {
   "cell_type": "code",
   "execution_count": 29,
   "id": "f1357bd7",
   "metadata": {},
   "outputs": [
    {
     "data": {
      "text/plain": [
       "22.25"
      ]
     },
     "execution_count": 29,
     "metadata": {},
     "output_type": "execute_result"
    }
   ],
   "source": [
    "linear_svc = LinearSVC()\n",
    "linear_svc.fit(train, train_labels)\n",
    "Y_pred = linear_svc.predict(test)\n",
    "acc_linear_svc = round(linear_svc.score(train, train_labels) * 100, 2)\n",
    "acc_linear_svc"
   ]
  },
  {
   "cell_type": "markdown",
   "id": "f05ef771",
   "metadata": {},
   "source": [
    "### Stochastic Gradient Descent"
   ]
  },
  {
   "cell_type": "code",
   "execution_count": 30,
   "id": "c7e1d07e",
   "metadata": {},
   "outputs": [
    {
     "data": {
      "text/plain": [
       "32.89"
      ]
     },
     "execution_count": 30,
     "metadata": {},
     "output_type": "execute_result"
    }
   ],
   "source": [
    "sgd = SGDClassifier()\n",
    "sgd.fit(train, train_labels)\n",
    "Y_pred = sgd.predict(test)\n",
    "acc_sgd = round(sgd.score(train, train_labels) * 100, 2)\n",
    "acc_sgd"
   ]
  },
  {
   "cell_type": "markdown",
   "id": "2c77e412",
   "metadata": {},
   "source": [
    "### Decision Tree"
   ]
  },
  {
   "cell_type": "code",
   "execution_count": 31,
   "id": "c4deb671",
   "metadata": {},
   "outputs": [
    {
     "data": {
      "text/plain": [
       "98.54"
      ]
     },
     "execution_count": 31,
     "metadata": {},
     "output_type": "execute_result"
    }
   ],
   "source": [
    "decision_tree = DecisionTreeClassifier()\n",
    "decision_tree.fit(train, train_labels)\n",
    "Y_pred = decision_tree.predict(test)\n",
    "acc_decision_tree = round(decision_tree.score(train, train_labels) * 100, 2)\n",
    "acc_decision_tree"
   ]
  },
  {
   "cell_type": "markdown",
   "id": "a50bab2c",
   "metadata": {},
   "source": [
    "### Random Forest"
   ]
  },
  {
   "cell_type": "code",
   "execution_count": 32,
   "id": "4462bece",
   "metadata": {},
   "outputs": [
    {
     "data": {
      "text/plain": [
       "98.54"
      ]
     },
     "execution_count": 32,
     "metadata": {},
     "output_type": "execute_result"
    }
   ],
   "source": [
    "random_forest = RandomForestClassifier(n_estimators=100)\n",
    "random_forest.fit(train, train_labels)\n",
    "Y_pred = random_forest.predict(test)\n",
    "random_forest.score(train, train_labels)\n",
    "acc_random_forest = round(random_forest.score(train, train_labels) * 100, 2)\n",
    "acc_random_forest"
   ]
  },
  {
   "cell_type": "markdown",
   "id": "fbf9f1f1",
   "metadata": {},
   "source": [
    "## Models' Score"
   ]
  },
  {
   "cell_type": "code",
   "execution_count": 33,
   "id": "5bfba350",
   "metadata": {
    "scrolled": true
   },
   "outputs": [
    {
     "data": {
      "text/html": [
       "<div>\n",
       "<style scoped>\n",
       "    .dataframe tbody tr th:only-of-type {\n",
       "        vertical-align: middle;\n",
       "    }\n",
       "\n",
       "    .dataframe tbody tr th {\n",
       "        vertical-align: top;\n",
       "    }\n",
       "\n",
       "    .dataframe thead th {\n",
       "        text-align: right;\n",
       "    }\n",
       "</style>\n",
       "<table border=\"1\" class=\"dataframe\">\n",
       "  <thead>\n",
       "    <tr style=\"text-align: right;\">\n",
       "      <th></th>\n",
       "      <th>Model</th>\n",
       "      <th>Score</th>\n",
       "    </tr>\n",
       "  </thead>\n",
       "  <tbody>\n",
       "    <tr>\n",
       "      <th>3</th>\n",
       "      <td>Random Forest</td>\n",
       "      <td>98.54</td>\n",
       "    </tr>\n",
       "    <tr>\n",
       "      <th>8</th>\n",
       "      <td>Decision Tree</td>\n",
       "      <td>98.54</td>\n",
       "    </tr>\n",
       "    <tr>\n",
       "      <th>1</th>\n",
       "      <td>KNN</td>\n",
       "      <td>57.31</td>\n",
       "    </tr>\n",
       "    <tr>\n",
       "      <th>0</th>\n",
       "      <td>Support Vector Machines</td>\n",
       "      <td>32.94</td>\n",
       "    </tr>\n",
       "    <tr>\n",
       "      <th>6</th>\n",
       "      <td>Stochastic Gradient Decent</td>\n",
       "      <td>32.89</td>\n",
       "    </tr>\n",
       "    <tr>\n",
       "      <th>2</th>\n",
       "      <td>Logistic Regression</td>\n",
       "      <td>32.76</td>\n",
       "    </tr>\n",
       "    <tr>\n",
       "      <th>4</th>\n",
       "      <td>Naive Bayes</td>\n",
       "      <td>32.23</td>\n",
       "    </tr>\n",
       "    <tr>\n",
       "      <th>5</th>\n",
       "      <td>Perceptron</td>\n",
       "      <td>28.61</td>\n",
       "    </tr>\n",
       "    <tr>\n",
       "      <th>7</th>\n",
       "      <td>Linear SVC</td>\n",
       "      <td>22.25</td>\n",
       "    </tr>\n",
       "  </tbody>\n",
       "</table>\n",
       "</div>"
      ],
      "text/plain": [
       "                        Model  Score\n",
       "3               Random Forest  98.54\n",
       "8               Decision Tree  98.54\n",
       "1                         KNN  57.31\n",
       "0     Support Vector Machines  32.94\n",
       "6  Stochastic Gradient Decent  32.89\n",
       "2         Logistic Regression  32.76\n",
       "4                 Naive Bayes  32.23\n",
       "5                  Perceptron  28.61\n",
       "7                  Linear SVC  22.25"
      ]
     },
     "execution_count": 33,
     "metadata": {},
     "output_type": "execute_result"
    }
   ],
   "source": [
    "models = pd.DataFrame({\n",
    "    'Model': ['Support Vector Machines', 'KNN', 'Logistic Regression', \n",
    "              'Random Forest', 'Naive Bayes', 'Perceptron', \n",
    "              'Stochastic Gradient Decent', 'Linear SVC', \n",
    "              'Decision Tree'],\n",
    "    'Score': [acc_svc, acc_knn, acc_log, \n",
    "              acc_random_forest, acc_gaussian, acc_perceptron, \n",
    "              acc_sgd, acc_linear_svc, acc_decision_tree]})\n",
    "models.sort_values(by='Score', ascending=False)"
   ]
  },
  {
   "cell_type": "markdown",
   "id": "2f2be694",
   "metadata": {},
   "source": [
    "### The Best One is : Random Forest Regressor"
   ]
  }
 ],
 "metadata": {
  "kernelspec": {
   "display_name": "Python 3 (ipykernel)",
   "language": "python",
   "name": "python3"
  },
  "language_info": {
   "codemirror_mode": {
    "name": "ipython",
    "version": 3
   },
   "file_extension": ".py",
   "mimetype": "text/x-python",
   "name": "python",
   "nbconvert_exporter": "python",
   "pygments_lexer": "ipython3",
   "version": "3.11.3"
  }
 },
 "nbformat": 4,
 "nbformat_minor": 5
}
